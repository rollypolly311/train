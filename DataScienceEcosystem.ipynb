{
 "cells": [
  {
   "cell_type": "markdown",
   "id": "20abc93b-399d-4867-a031-a477465e3ace",
   "metadata": {},
   "source": [
    "<h1>DataScienceEcosystem Jupyter Notebook</h1>"
   ]
  },
  {
   "cell_type": "markdown",
   "id": "f147776b-6fe1-4ca4-a85c-7cc1424b40c3",
   "metadata": {},
   "source": [
    "In this notebook, Data Science Tools and Ecosystems are summarized."
   ]
  },
  {
   "cell_type": "markdown",
   "id": "f73b2453-262f-4213-a652-14154988815e",
   "metadata": {},
   "source": [
    "**Objectives**\n",
    "- List popular languages used by Data Scientists\n",
    "- List commonly used Libraries by Dats Scientists\n",
    "- List of Some Data Science Tools\n",
    "- Sample of how arithmetic is done on Jupyter Notebooks\n",
    "- Sample of using comments in Jupyter Notebooks\n"
   ]
  },
  {
   "cell_type": "markdown",
   "id": "d78e2a44-9857-4ea9-a5c8-6071a52c2445",
   "metadata": {
    "tags": []
   },
   "source": [
    "Some of the popular languages that Data Scientists use are:\n",
    "1. Python\n",
    "2. Java\n",
    "3. Scala\n",
    "4. C++"
   ]
  },
  {
   "cell_type": "markdown",
   "id": "4bd89645-3a36-4928-96e4-61f7789d746d",
   "metadata": {},
   "source": [
    "Some of the commonly used libraries used by Data Scientists include:\n",
    "1. Pandas\n",
    "2. Numpy\n",
    "3. Scikitlearn\n",
    "4. Vegas for Scala\n",
    "5. BigDL for Scala"
   ]
  },
  {
   "cell_type": "markdown",
   "id": "ac5b58e1-1c8d-4917-a20e-6b54bae57d37",
   "metadata": {},
   "source": [
    "\n",
    "| Data Science Tools| \n",
    "|:-----------------:|\n",
    "|  Jupyter Notebook |  \n",
    "|  Apache Zeppelin  |  \n",
    "|  R Studio         |  "
   ]
  },
  {
   "cell_type": "markdown",
   "id": "a90eba8e-7704-4aa6-9fef-94283a6f94c8",
   "metadata": {},
   "source": [
    "<h3>Below are a few examples of evaluating arithmethic expressions in python</h3>"
   ]
  },
  {
   "cell_type": "markdown",
   "id": "24820fc8-91ea-47ef-b0c9-539968a29622",
   "metadata": {},
   "source": [
    "this is a sample of an arithmethic expression to multiply then add integers"
   ]
  },
  {
   "cell_type": "code",
   "execution_count": 2,
   "id": "bee57262-1491-4691-a120-a96ae64b504b",
   "metadata": {
    "tags": []
   },
   "outputs": [
    {
     "data": {
      "text/plain": [
       "17"
      ]
     },
     "execution_count": 2,
     "metadata": {},
     "output_type": "execute_result"
    }
   ],
   "source": [
    "(3*4)+5"
   ]
  },
  {
   "cell_type": "code",
   "execution_count": 3,
   "id": "733aee38-fb1f-426b-8d70-2ac4c48c5b4e",
   "metadata": {
    "tags": []
   },
   "outputs": [
    {
     "data": {
      "text/plain": [
       "3.3333333333333335"
      ]
     },
     "execution_count": 3,
     "metadata": {},
     "output_type": "execute_result"
    }
   ],
   "source": [
    "#This will convert 200 minutes into hours\n",
    "200/60"
   ]
  },
  {
   "cell_type": "markdown",
   "id": "161d615b-e1d0-4070-bd51-feafbbb14614",
   "metadata": {
    "tags": []
   },
   "source": [
    "<h2>Author: Lhilbert Magpantay</h2>"
   ]
  },
  {
   "cell_type": "code",
   "execution_count": null,
   "id": "c970d8f2-2bc9-439d-bf4e-445b546bb6dc",
   "metadata": {},
   "outputs": [],
   "source": []
  }
 ],
 "metadata": {
  "kernelspec": {
   "display_name": "Python",
   "language": "python",
   "name": "conda-env-python-py"
  },
  "language_info": {
   "codemirror_mode": {
    "name": "ipython",
    "version": 3
   },
   "file_extension": ".py",
   "mimetype": "text/x-python",
   "name": "python",
   "nbconvert_exporter": "python",
   "pygments_lexer": "ipython3",
   "version": "3.7.12"
  }
 },
 "nbformat": 4,
 "nbformat_minor": 5
}
